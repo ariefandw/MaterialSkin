{
  "nbformat": 4,
  "nbformat_minor": 0,
  "metadata": {
    "colab": {
      "name": "Untitled0.ipynb",
      "provenance": [],
      "authorship_tag": "ABX9TyMexc0ABCroKA+EOzby7/0F",
      "include_colab_link": true
    },
    "kernelspec": {
      "name": "python3",
      "display_name": "Python 3"
    }
  },
  "cells": [
    {
      "cell_type": "markdown",
      "metadata": {
        "id": "view-in-github",
        "colab_type": "text"
      },
      "source": [
        "<a href=\"https://colab.research.google.com/github/ariefandw/MaterialSkin/blob/master/tensorflow.ipynb\" target=\"_parent\"><img src=\"https://colab.research.google.com/assets/colab-badge.svg\" alt=\"Open In Colab\"/></a>"
      ]
    },
    {
      "cell_type": "code",
      "metadata": {
        "id": "gXWXENdOPW05",
        "colab_type": "code",
        "colab": {}
      },
      "source": [
        "from __future__ import absolute_import, division, print_function, unicode_literals\n",
        "\n",
        "import numpy as np\n",
        "\n",
        "import tensorflow as tf\n",
        "\n",
        "!pip install -q tensorflow-hub\n",
        "!pip install -q tfds-nightly\n",
        "import tensorflow_hub as hub\n",
        "import tensorflow_datasets as tfds\n",
        "\n",
        "print(\"Version: \", tf.__version__)\n",
        "print(\"Eager mode: \", tf.executing_eagerly())\n",
        "print(\"Hub version: \", hub.__version__)\n",
        "print(\"GPU is\", \"available\" if tf.config.experimental.list_physical_devices(\"GPU\") else \"NOT AVAILABLE\")"
      ],
      "execution_count": 0,
      "outputs": []
    },
    {
      "cell_type": "code",
      "metadata": {
        "id": "C3VTXMYNQcLy",
        "colab_type": "code",
        "colab": {}
      },
      "source": [
        "# Split the training set into 60% and 40%, so we'll end up with 15,000 examples\n",
        "# for training, 10,000 examples for validation and 25,000 examples for testing.\n",
        "train_data, validation_data, test_data = tfds.load(\n",
        "    name=\"imdb_reviews\", \n",
        "    split=('train[:60%]', 'train[60%:]', 'test'),\n",
        "    as_supervised=True)"
      ],
      "execution_count": 0,
      "outputs": []
    },
    {
      "cell_type": "code",
      "metadata": {
        "id": "ZNKeGg-oRL8M",
        "colab_type": "code",
        "colab": {}
      },
      "source": [
        "train_examples_batch, train_labels_batch = next(iter(train_data.batch(10)))\n",
        "train_examples_batch"
      ],
      "execution_count": 0,
      "outputs": []
    },
    {
      "cell_type": "code",
      "metadata": {
        "id": "JI6lWDh5RT8b",
        "colab_type": "code",
        "colab": {
          "base_uri": "https://localhost:8080/",
          "height": 34
        },
        "outputId": "474cbfe4-11c7-4bfe-eebf-a906383ec175"
      },
      "source": [
        "train_labels_batch"
      ],
      "execution_count": 4,
      "outputs": [
        {
          "output_type": "execute_result",
          "data": {
            "text/plain": [
              "<tf.Tensor: shape=(10,), dtype=int64, numpy=array([0, 0, 0, 1, 1, 1, 0, 0, 0, 0])>"
            ]
          },
          "metadata": {
            "tags": []
          },
          "execution_count": 4
        }
      ]
    },
    {
      "cell_type": "code",
      "metadata": {
        "id": "FJLUAwFrRckD",
        "colab_type": "code",
        "colab": {
          "base_uri": "https://localhost:8080/",
          "height": 252
        },
        "outputId": "5e580266-a3c4-4262-bb3a-af09a358a689"
      },
      "source": [
        "embedding = \"https://tfhub.dev/google/tf2-preview/gnews-swivel-20dim/1\"\n",
        "hub_layer = hub.KerasLayer(embedding, input_shape=[], \n",
        "                           dtype=tf.string, trainable=True)\n",
        "hub_layer(train_examples_batch[:3])"
      ],
      "execution_count": 5,
      "outputs": [
        {
          "output_type": "execute_result",
          "data": {
            "text/plain": [
              "<tf.Tensor: shape=(3, 20), dtype=float32, numpy=\n",
              "array([[ 1.765786  , -3.882232  ,  3.9134233 , -1.5557289 , -3.3362343 ,\n",
              "        -1.7357955 , -1.9954445 ,  1.2989551 ,  5.081598  , -1.1041286 ,\n",
              "        -2.0503852 , -0.72675157, -0.65675956,  0.24436149, -3.7208383 ,\n",
              "         2.0954835 ,  2.2969332 , -2.0689783 , -2.9489717 , -1.1315987 ],\n",
              "       [ 1.8804485 , -2.5852382 ,  3.4066997 ,  1.0982676 , -4.056685  ,\n",
              "        -4.891284  , -2.785554  ,  1.3874227 ,  3.8476458 , -0.9256538 ,\n",
              "        -1.896706  ,  1.2113281 ,  0.11474707,  0.76209456, -4.8791065 ,\n",
              "         2.906149  ,  4.7087674 , -2.3652055 , -3.5015898 , -1.6390051 ],\n",
              "       [ 0.71152234, -0.6353217 ,  1.7385626 , -1.1168286 , -0.5451594 ,\n",
              "        -1.1808156 ,  0.09504455,  1.4653089 ,  0.66059524,  0.79308075,\n",
              "        -2.2268345 ,  0.07446612, -1.4075904 , -0.70645386, -1.907037  ,\n",
              "         1.4419787 ,  1.9551861 , -0.42660055, -2.8022065 ,  0.43727064]],\n",
              "      dtype=float32)>"
            ]
          },
          "metadata": {
            "tags": []
          },
          "execution_count": 5
        }
      ]
    },
    {
      "cell_type": "code",
      "metadata": {
        "id": "1g6d14SSRfRh",
        "colab_type": "code",
        "colab": {
          "base_uri": "https://localhost:8080/",
          "height": 252
        },
        "outputId": "ad5e2aac-1fd0-4cde-c522-db1b97f9b26f"
      },
      "source": [
        "model = tf.keras.Sequential()\n",
        "model.add(hub_layer)\n",
        "model.add(tf.keras.layers.Dense(16, activation='relu'))\n",
        "model.add(tf.keras.layers.Dense(1))\n",
        "\n",
        "model.summary()"
      ],
      "execution_count": 6,
      "outputs": [
        {
          "output_type": "stream",
          "text": [
            "Model: \"sequential\"\n",
            "_________________________________________________________________\n",
            "Layer (type)                 Output Shape              Param #   \n",
            "=================================================================\n",
            "keras_layer (KerasLayer)     (None, 20)                400020    \n",
            "_________________________________________________________________\n",
            "dense (Dense)                (None, 16)                336       \n",
            "_________________________________________________________________\n",
            "dense_1 (Dense)              (None, 1)                 17        \n",
            "=================================================================\n",
            "Total params: 400,373\n",
            "Trainable params: 400,373\n",
            "Non-trainable params: 0\n",
            "_________________________________________________________________\n"
          ],
          "name": "stdout"
        }
      ]
    },
    {
      "cell_type": "code",
      "metadata": {
        "id": "-r2gydw9RlAC",
        "colab_type": "code",
        "colab": {}
      },
      "source": [
        "model.compile(optimizer='adam',\n",
        "              loss=tf.keras.losses.BinaryCrossentropy(from_logits=True),\n",
        "              metrics=['accuracy'])"
      ],
      "execution_count": 0,
      "outputs": []
    },
    {
      "cell_type": "code",
      "metadata": {
        "id": "tqXhZi0YRln2",
        "colab_type": "code",
        "colab": {
          "base_uri": "https://localhost:8080/",
          "height": 689
        },
        "outputId": "b55bcbe2-5e14-4df3-f4d7-6ff77bdcd155"
      },
      "source": [
        "history = model.fit(train_data.shuffle(10000).batch(512),\n",
        "                    epochs=20,\n",
        "                    validation_data=validation_data.batch(512),\n",
        "                    verbose=1)"
      ],
      "execution_count": 8,
      "outputs": [
        {
          "output_type": "stream",
          "text": [
            "Epoch 1/20\n",
            "30/30 [==============================] - 3s 102ms/step - loss: 0.8512 - accuracy: 0.5647 - val_loss: 0.6928 - val_accuracy: 0.5847\n",
            "Epoch 2/20\n",
            "30/30 [==============================] - 3s 98ms/step - loss: 0.6483 - accuracy: 0.6170 - val_loss: 0.6370 - val_accuracy: 0.6326\n",
            "Epoch 3/20\n",
            "30/30 [==============================] - 3s 99ms/step - loss: 0.6131 - accuracy: 0.6439 - val_loss: 0.6102 - val_accuracy: 0.6502\n",
            "Epoch 4/20\n",
            "30/30 [==============================] - 3s 100ms/step - loss: 0.5850 - accuracy: 0.6682 - val_loss: 0.5855 - val_accuracy: 0.6729\n",
            "Epoch 5/20\n",
            "30/30 [==============================] - 3s 101ms/step - loss: 0.5559 - accuracy: 0.6929 - val_loss: 0.5601 - val_accuracy: 0.6920\n",
            "Epoch 6/20\n",
            "30/30 [==============================] - 3s 100ms/step - loss: 0.5258 - accuracy: 0.7193 - val_loss: 0.5319 - val_accuracy: 0.7119\n",
            "Epoch 7/20\n",
            "30/30 [==============================] - 3s 100ms/step - loss: 0.4922 - accuracy: 0.7539 - val_loss: 0.4988 - val_accuracy: 0.7413\n",
            "Epoch 8/20\n",
            "30/30 [==============================] - 3s 102ms/step - loss: 0.4561 - accuracy: 0.7773 - val_loss: 0.4675 - val_accuracy: 0.7679\n",
            "Epoch 9/20\n",
            "30/30 [==============================] - 3s 102ms/step - loss: 0.4196 - accuracy: 0.8049 - val_loss: 0.4375 - val_accuracy: 0.7878\n",
            "Epoch 10/20\n",
            "30/30 [==============================] - 3s 100ms/step - loss: 0.3821 - accuracy: 0.8275 - val_loss: 0.4068 - val_accuracy: 0.8132\n",
            "Epoch 11/20\n",
            "30/30 [==============================] - 3s 101ms/step - loss: 0.3483 - accuracy: 0.8482 - val_loss: 0.3835 - val_accuracy: 0.8318\n",
            "Epoch 12/20\n",
            "30/30 [==============================] - 3s 99ms/step - loss: 0.3169 - accuracy: 0.8675 - val_loss: 0.3622 - val_accuracy: 0.8278\n",
            "Epoch 13/20\n",
            "30/30 [==============================] - 3s 99ms/step - loss: 0.2902 - accuracy: 0.8805 - val_loss: 0.3453 - val_accuracy: 0.8411\n",
            "Epoch 14/20\n",
            "30/30 [==============================] - 3s 101ms/step - loss: 0.2677 - accuracy: 0.8905 - val_loss: 0.3327 - val_accuracy: 0.8529\n",
            "Epoch 15/20\n",
            "30/30 [==============================] - 3s 100ms/step - loss: 0.2471 - accuracy: 0.9015 - val_loss: 0.3263 - val_accuracy: 0.8479\n",
            "Epoch 16/20\n",
            "30/30 [==============================] - 3s 101ms/step - loss: 0.2309 - accuracy: 0.9071 - val_loss: 0.3156 - val_accuracy: 0.8602\n",
            "Epoch 17/20\n",
            "30/30 [==============================] - 3s 103ms/step - loss: 0.2141 - accuracy: 0.9167 - val_loss: 0.3137 - val_accuracy: 0.8666\n",
            "Epoch 18/20\n",
            "30/30 [==============================] - 3s 103ms/step - loss: 0.2008 - accuracy: 0.9235 - val_loss: 0.3069 - val_accuracy: 0.8656\n",
            "Epoch 19/20\n",
            "30/30 [==============================] - 3s 103ms/step - loss: 0.1880 - accuracy: 0.9281 - val_loss: 0.3032 - val_accuracy: 0.8649\n",
            "Epoch 20/20\n",
            "30/30 [==============================] - 3s 102ms/step - loss: 0.1764 - accuracy: 0.9342 - val_loss: 0.3033 - val_accuracy: 0.8704\n"
          ],
          "name": "stdout"
        }
      ]
    },
    {
      "cell_type": "code",
      "metadata": {
        "id": "90fe5ouiRsif",
        "colab_type": "code",
        "colab": {
          "base_uri": "https://localhost:8080/",
          "height": 67
        },
        "outputId": "0bf2a857-ceab-4ff0-89a3-51d0ce56482c"
      },
      "source": [
        "results = model.evaluate(test_data.batch(512), verbose=2)\n",
        "\n",
        "for name, value in zip(model.metrics_names, results):\n",
        "  print(\"%s: %.3f\" % (name, value))"
      ],
      "execution_count": 9,
      "outputs": [
        {
          "output_type": "stream",
          "text": [
            "49/49 - 3s - loss: 0.3185 - accuracy: 0.8614\n",
            "loss: 0.319\n",
            "accuracy: 0.861\n"
          ],
          "name": "stdout"
        }
      ]
    }
  ]
}